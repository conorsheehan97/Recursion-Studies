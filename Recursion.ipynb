{
 "cells": [
  {
   "cell_type": "markdown",
   "id": "a1d0ceea-8e21-4634-8e96-553698e2cae2",
   "metadata": {},
   "source": [
    "# Introduction "
   ]
  },
  {
   "cell_type": "markdown",
   "id": "57d2f8e2-ae88-432e-bf21-d848e142c7da",
   "metadata": {},
   "source": [
    "Recursion is a programming technique where a function calls itself to solve a smaller instance of the same problem. This approach is useful for problems that can be broken down into simpler, repetitive tasks. A recursive function typically has two main components:\n",
    "\n",
    "**Base Case:**  The condition under which the function stops calling itself, preventing infinite recursion.\n",
    "\n",
    "**Recursive Case:** The part of the function where it calls itself with a modified argument."
   ]
  },
  {
   "cell_type": "markdown",
   "id": "90fd861e-5a5f-4dcb-b90f-8584ac8347f2",
   "metadata": {},
   "source": [
    "### How Recursion Works\n",
    "When a recursive function calls itself, each call creates a new stack frame. This frame contains the function's local variables and the return address. Once the base case is reached, the function starts to return, and the stack frames are popped off the stack one by one."
   ]
  },
  {
   "cell_type": "markdown",
   "id": "5d84281f-23dc-4d9e-80c5-4ef9908712d7",
   "metadata": {},
   "source": [
    "### Recursion in Python vs. C++\n",
    "#### Memory Management\n",
    "#### Python:\n",
    "**Garbage Collection:** Python uses automatic garbage collection to manage memory. Objects are allocated on the heap, and the garbage collector reclaims memory when objects are no longer in use.\n",
    "\n",
    "**Stack and Heap:** Python handles the stack and heap automatically. Function calls, including recursive calls, use the stack, and objects (such as lists, dictionaries, and class instances) are stored on the heap. The recursion depth in Python is limited by default (usually 1000 calls) but can be changed using the sys.setrecursionlimit function.\n",
    "#### C++:\n",
    "**Manual Memory Management:** In C++, memory management is often manual. Developers allocate and deallocate memory using new and delete.\n",
    "\n",
    "**Stack and Heap:** C++ also uses the stack for function calls and local variables, and the heap for dynamically allocated memory. Unlike Python, deep recursion in C++ can lead to a stack overflow if the stack size is exceeded. The stack size is fixed and smaller compared to Python's dynamic memory management."
   ]
  },
  {
   "cell_type": "markdown",
   "id": "5d87deca-2913-4d87-b2d5-8b5979b83056",
   "metadata": {},
   "source": [
    "#### Syntax and Simplicity\n",
    "**Python:** Python's syntax is concise and readable, making it easier to implement recursive functions. There are fewer lines of code and less boilerplate.\n",
    "\n",
    "**C++:** C++ requires more boilerplate code for defining functions and managing memory, which can make recursive functions more complex and verbose."
   ]
  },
  {
   "cell_type": "markdown",
   "id": "62b81d02-4209-4cbf-a27b-a75f52505bfc",
   "metadata": {},
   "source": [
    "# Tree Recursion"
   ]
  },
  {
   "cell_type": "markdown",
   "id": "4cd77e77-63d3-4c4a-a5bd-2f221dad6c8a",
   "metadata": {},
   "source": [
    "#### What is Tree Recursion?\n",
    "Tree recursion is a type of recursion where a function makes multiple recursive calls. This often results in a branching structure, similar to a tree, where each node represents a function call, and each branch represents a recursive call. Tree recursion can be more complex than linear recursion because it can involve multiple branches and deeper recursion depths."
   ]
  },
  {
   "cell_type": "markdown",
   "id": "1fbc7575-c52a-4499-a9d7-0995df77abc3",
   "metadata": {},
   "source": [
    "#### Our Custom Recursion Library\n",
    "In this notebook, we've created our own Recursion library with a TreeRecursion class. This class includes methods to initialize counters, perform tree recursion, and retrieve statistics such as the call count and maximum depth."
   ]
  },
  {
   "cell_type": "code",
   "execution_count": 1,
   "id": "4c190709-2767-411b-a1f4-43400c38ee67",
   "metadata": {},
   "outputs": [],
   "source": [
    "from Recursion import Tree_Recursion_Class "
   ]
  },
  {
   "cell_type": "code",
   "execution_count": 2,
   "id": "549183ef-9d55-4083-b4fb-3542cb461aed",
   "metadata": {},
   "outputs": [
    {
     "name": "stdout",
     "output_type": "stream",
     "text": [
      "3, 2, 1, 0, 0, 1, 0, 0, 2, 1, 0, 0, 1, 0, 0, "
     ]
    }
   ],
   "source": [
    "Rec = Tree_Recursion_Class()\n",
    "Rec.initialize_call_count()\n",
    "Rec.tree_recursion(3)"
   ]
  },
  {
   "cell_type": "code",
   "execution_count": 7,
   "id": "8ca48551-5f58-4c60-bdd1-b51ac8307d31",
   "metadata": {},
   "outputs": [
    {
     "name": "stdout",
     "output_type": "stream",
     "text": [
      "\n",
      "Total number of Activation Records: 15\n",
      "Max depth on the Stack: 4\n"
     ]
    }
   ],
   "source": [
    "print(\"\\nTotal number of Activation Records:\", Rec.get_call_count())\n",
    "print(\"Max depth on the Stack:\", Rec.get_max_depth())"
   ]
  },
  {
   "cell_type": "markdown",
   "id": "13bc7f8c-68f5-47be-978d-93ce231db4d7",
   "metadata": {},
   "source": [
    "#### Analyzing Tree Recursion for n = 3\n",
    "When we run the tree_recursion method with n=3, the function will generate a series of recursive calls.\n",
    "\n",
    "#### Activation Records\n",
    "The total number of activation records (function calls) for tree recursion with n is given by  $2^{n+1}$−1. For n = 3 : $2^{(3+1)}$−1 = 15\n",
    "\n",
    "So, the total number of activation records is 15."
   ]
  },
  {
   "cell_type": "markdown",
   "id": "1572a848-85a2-4f30-ba69-e34f0d883170",
   "metadata": {},
   "source": [
    "#### Maximum Depth\n",
    "The maximum depth of recursion for n = 3 is n+1. For n=3: 3+1=4\n",
    "\n",
    "So, the maximum depth is 4."
   ]
  },
  {
   "cell_type": "markdown",
   "id": "65708dbb-4143-42f9-ba9b-7e1d50644442",
   "metadata": {},
   "source": [
    "#### Conclusion\n",
    "Tree recursion can lead to a large number of function calls and deeper recursion depths. By analyzing the tree_recursion method for  n=3, we observed that it generates 15 activation records and reaches a maximum depth of 4. This illustrates the exponential growth in the number of function calls and the depth of recursion in tree recursive functions."
   ]
  },
  {
   "cell_type": "markdown",
   "id": "b0257e97-1333-4a27-b3a0-4bfb5d04b9fb",
   "metadata": {},
   "source": [
    "# Sum of the Natural Numbers "
   ]
  },
  {
   "cell_type": "code",
   "execution_count": 11,
   "id": "db5e0f9a-171d-4c71-b82c-ac2efd00348b",
   "metadata": {},
   "outputs": [],
   "source": [
    "from Recursion import Natural_Numbers_Class\n",
    "import time "
   ]
  },
  {
   "cell_type": "code",
   "execution_count": 25,
   "id": "fdea907b-5f55-4b9c-9b3c-dcfc2ba73431",
   "metadata": {},
   "outputs": [
    {
     "name": "stdout",
     "output_type": "stream",
     "text": [
      "Recursive sum of 5 is 15\n",
      "Execution time for recursive_sum: 138.80 microseconds\n",
      "Analytical sum of 5 is 15.0\n",
      "Execution time for analytical_sum: 122.70 microseconds\n"
     ]
    }
   ],
   "source": [
    "Nat_Num = Natural_Numbers_Class()\n",
    "\n",
    "# Measure execution time for recursive_sum\n",
    "start_time = time.perf_counter()\n",
    "result_recursive = Nat_Num.recursive_sum(5)\n",
    "end_time = time.perf_counter()\n",
    "execution_time_recursive = (end_time - start_time) * 1_000_000  # Convert to microseconds\n",
    "\n",
    "print(f\"Recursive sum of {5} is {result_recursive}\")\n",
    "print(f\"Execution time for recursive_sum: {execution_time_recursive:.2f} microseconds\")\n",
    "\n",
    "# Measure execution time for analytical_sum\n",
    "start_time = time.perf_counter()\n",
    "result_analytical = Nat_Num.analytic_sum(5)\n",
    "end_time = time.perf_counter()\n",
    "execution_time_analytical = (end_time - start_time) * 1_000_000  # Convert to microseconds\n",
    "\n",
    "print(f\"Analytical sum of {5} is {result_analytical}\")\n",
    "print(f\"Execution time for analytical_sum: {execution_time_analytical:.2f} microseconds\")"
   ]
  },
  {
   "cell_type": "markdown",
   "id": "1ff52c76-42e9-4f24-8afc-6fb2e48d454e",
   "metadata": {},
   "source": [
    "# Power Series"
   ]
  },
  {
   "cell_type": "code",
   "execution_count": 3,
   "id": "ef749641-6e4f-4b42-bff1-5031500764c6",
   "metadata": {},
   "outputs": [],
   "source": [
    "from Recursion import Power_Series_Class\n",
    "import time"
   ]
  },
  {
   "cell_type": "code",
   "execution_count": 31,
   "id": "e676d7c5-7bd5-4e08-bd93-5e21423db217",
   "metadata": {},
   "outputs": [
    {
     "name": "stdout",
     "output_type": "stream",
     "text": [
      "Power Series of 2 raised to 8 is 256\n",
      "Execution time for MEthod 1 is : 142.30 microseconds\n",
      "Power Series of 2 raised to 8 is 256\n",
      "Execution time for Method 2 is : 141.30 microseconds\n"
     ]
    }
   ],
   "source": [
    "Power = Power_Series_Class()\n",
    "\n",
    "# Measure execution time for recursive_sum\n",
    "start_time = time.perf_counter()\n",
    "result_recursive = Power.recursive_method_one(2,8)\n",
    "end_time = time.perf_counter()\n",
    "execution_time_recursive = (end_time - start_time) * 1_000_000  # Convert to microseconds\n",
    "\n",
    "print(f\"Power Series of {2} raised to {8} is {result_recursive}\")\n",
    "print(f\"Execution time for MEthod 1 is : {execution_time_recursive:.2f} microseconds\")\n",
    "\n",
    "# Measure execution time for analytical_sum\n",
    "start_time = time.perf_counter()\n",
    "result_recursive_two = Power.recursive_method_two(2,8)\n",
    "end_time = time.perf_counter()\n",
    "execution_time_recursive_2 = (end_time - start_time) * 1_000_000  # Convert to microseconds\n",
    "\n",
    "print(f\"Power Series of {2} raised to {8} is {result_recursive_two}\")\n",
    "print(f\"Execution time for Method 2 is : {execution_time_recursive_2:.2f} microseconds\")"
   ]
  },
  {
   "cell_type": "markdown",
   "id": "baa8cf92-ebad-4c6a-b736-e2440b1f05dd",
   "metadata": {},
   "source": [
    "# Taylor Series"
   ]
  },
  {
   "cell_type": "code",
   "execution_count": 2,
   "id": "ebdb17f0-f5e4-4a7d-969a-32758811fc67",
   "metadata": {},
   "outputs": [],
   "source": [
    "from Recursion import Taylor_Series_Class\n",
    "import time"
   ]
  },
  {
   "cell_type": "code",
   "execution_count": 4,
   "id": "ee45ef4c-1f89-4a76-9a11-9969e8ecfca8",
   "metadata": {},
   "outputs": [
    {
     "name": "stdout",
     "output_type": "stream",
     "text": [
      "Taylor Series of e^3 with 25 terms is  20.085536923187654\n",
      "Execution time for Method 1 is : 140.60 microseconds\n",
      "Taylor Series of e^3 with 25 terms is 20.08553692318766\n",
      "Execution time for Horner method is : 107.70 microseconds\n"
     ]
    }
   ],
   "source": [
    "Taylor = Taylor_Series_Class()\n",
    "\n",
    "# Measure execution time for recursive_sum\n",
    "start_time = time.perf_counter()\n",
    "result_recursive = Taylor.taylor_method_one(3,25)\n",
    "end_time = time.perf_counter()\n",
    "execution_time_recursive = (end_time - start_time) * 1_000_000  # Convert to microseconds\n",
    "\n",
    "print(f\"Taylor Series of e^{3} with {25} terms is  {result_recursive}\")\n",
    "print(f\"Execution time for Method 1 is : {execution_time_recursive:.2f} microseconds\")\n",
    "\n",
    "# Measure execution time for analytical_sum\n",
    "start_time = time.perf_counter()\n",
    "result_horner = Taylor.taylor_series_horner_method(3,25)\n",
    "end_time = time.perf_counter()\n",
    "execution_time_recursive_2 = (end_time - start_time) * 1_000_000  # Convert to microseconds\n",
    "\n",
    "print(f\"Taylor Series of e^{3} with {25} terms is {result_horner}\")\n",
    "print(f\"Execution time for Horner method is : {execution_time_recursive_2:.2f} microseconds\")"
   ]
  },
  {
   "cell_type": "markdown",
   "id": "5298bf88-e4fe-433c-a4e7-0020012dd316",
   "metadata": {},
   "source": [
    "# Fibonacci Series"
   ]
  },
  {
   "cell_type": "code",
   "execution_count": 1,
   "id": "6e071b28-e277-4bea-967a-23bcd21ce1a4",
   "metadata": {},
   "outputs": [],
   "source": [
    "from Recursion import Fibonacci_Series_Class\n",
    "import time "
   ]
  },
  {
   "cell_type": "code",
   "execution_count": 10,
   "id": "d6b2a14c-a8c4-4fc3-b9c0-de9d076c628e",
   "metadata": {},
   "outputs": [
    {
     "name": "stdout",
     "output_type": "stream",
     "text": [
      "The 35th Fibonacci element is  9227465\n",
      "Execution time for recursive method is : 4873508.40 microseconds\n",
      "The 35th Fibonacci element is 9227465\n",
      "Execution time for Memoization method is : 211.80 microseconds\n"
     ]
    }
   ],
   "source": [
    "Fib = Fibonacci_Series_Class()\n",
    "\n",
    "# Measure execution time for recursive_sum\n",
    "start_time = time.perf_counter()\n",
    "result_recursive = Fib.fibonacci_method_one(35)\n",
    "end_time = time.perf_counter()\n",
    "execution_time_recursive = (end_time - start_time) * 1_000_000  # Convert to microseconds\n",
    "\n",
    "print(f\"The 35th Fibonacci element is  {result_recursive}\")\n",
    "print(f\"Execution time for recursive method is : {execution_time_recursive:.2f} microseconds\")\n",
    "\n",
    "# Measure execution time for analytical_sum\n",
    "start_time = time.perf_counter()\n",
    "Fib.fibonacci_method_two_list(35)\n",
    "result_memoization = Fib.fibonacci_method_two(35)\n",
    "end_time = time.perf_counter()\n",
    "execution_time_recursive_2 = (end_time - start_time) * 1_000_000  # Convert to microseconds\n",
    "\n",
    "print(f\"The 35th Fibonacci element is {result_pascal}\")\n",
    "print(f\"Execution time for Memoization method is : {execution_time_recursive_2:.2f} microseconds\")"
   ]
  },
  {
   "cell_type": "markdown",
   "id": "7acb8f4c-a06b-44fa-b9e5-0a7e91b3b7f6",
   "metadata": {},
   "source": [
    "# Binomial Coefficient"
   ]
  },
  {
   "cell_type": "code",
   "execution_count": 9,
   "id": "ed852851-4813-4be5-8faa-7f469e96e038",
   "metadata": {},
   "outputs": [],
   "source": [
    "from Recursion import Binomial_Method"
   ]
  },
  {
   "cell_type": "code",
   "execution_count": 15,
   "id": "7e78d4b3-9991-42d0-8ea2-4709506aae5d",
   "metadata": {},
   "outputs": [
    {
     "name": "stdout",
     "output_type": "stream",
     "text": [
      "10C6 is  210.0\n",
      "Execution time for recursive method is : 149.30 microseconds\n",
      "10C6 is 210\n",
      "Execution time for Pascal Triangle method is : 325.00 microseconds\n"
     ]
    }
   ],
   "source": [
    "Bin = Binomial_Method()\n",
    "\n",
    "# Measure execution time for recursive_sum\n",
    "start_time = time.perf_counter()\n",
    "result_recursive = Bin.recursive_method(10,6)\n",
    "end_time = time.perf_counter()\n",
    "execution_time_recursive = (end_time - start_time) * 1_000_000  # Convert to microseconds\n",
    "\n",
    "print(f\"10C6 is  {result_recursive}\")\n",
    "print(f\"Execution time for recursive method is : {execution_time_recursive:.2f} microseconds\")\n",
    "\n",
    "# Measure execution time for analytical_sum\n",
    "start_time = time.perf_counter()\n",
    "result_pascal = Bin.pascal_method(10,6)\n",
    "end_time = time.perf_counter()\n",
    "execution_time_recursive_2 = (end_time - start_time) * 1_000_000  # Convert to microseconds\n",
    "\n",
    "print(f\"10C6 is {result_pascal}\")\n",
    "print(f\"Execution time for Pascal Triangle method is : {execution_time_recursive_2:.2f} microseconds\")"
   ]
  },
  {
   "cell_type": "markdown",
   "id": "e197b792-0880-4ca4-854f-12fcb5e915cf",
   "metadata": {},
   "source": [
    "# Tower of Hanoi"
   ]
  },
  {
   "cell_type": "code",
   "execution_count": 16,
   "id": "ae119480-7aae-4568-8d24-9c842d79ac0c",
   "metadata": {},
   "outputs": [],
   "source": [
    "from Recursion import Tower_of_Hanoi "
   ]
  },
  {
   "cell_type": "code",
   "execution_count": 18,
   "id": "b6081693-0b1c-4bc5-866b-fb7e28a2b16b",
   "metadata": {},
   "outputs": [
    {
     "name": "stdout",
     "output_type": "stream",
     "text": [
      "Move disk from tower  1  to tower  2\n",
      "Move disk from tower  1  to tower  3\n",
      "Move disk from tower  2  to tower  3\n",
      "Move disk from tower  1  to tower  2\n",
      "Move disk from tower  3  to tower  1\n",
      "Move disk from tower  3  to tower  2\n",
      "Move disk from tower  1  to tower  2\n",
      "Move disk from tower  1  to tower  3\n",
      "Move disk from tower  2  to tower  3\n",
      "Move disk from tower  2  to tower  1\n",
      "Move disk from tower  3  to tower  1\n",
      "Move disk from tower  2  to tower  3\n",
      "Move disk from tower  1  to tower  2\n",
      "Move disk from tower  1  to tower  3\n",
      "Move disk from tower  2  to tower  3\n"
     ]
    }
   ],
   "source": [
    "TOH = Tower_of_Hanoi()\n",
    "TOH.TOH(1,2,3,4)"
   ]
  },
  {
   "cell_type": "code",
   "execution_count": null,
   "id": "3937790d-9641-4a53-80bd-5f2e9ed451f6",
   "metadata": {},
   "outputs": [],
   "source": []
  },
  {
   "cell_type": "code",
   "execution_count": null,
   "id": "a49b36a5-d1de-4d1c-af85-3f3dffcc9d76",
   "metadata": {},
   "outputs": [],
   "source": []
  },
  {
   "cell_type": "code",
   "execution_count": null,
   "id": "23ca8dfa-97cd-4924-997c-40018fd1c59c",
   "metadata": {},
   "outputs": [],
   "source": []
  },
  {
   "cell_type": "code",
   "execution_count": null,
   "id": "c0f73c9a-8526-475f-9c37-5088ddf97845",
   "metadata": {},
   "outputs": [],
   "source": []
  },
  {
   "cell_type": "code",
   "execution_count": null,
   "id": "fa22f08d-5fcf-498f-bda1-5b7f0861d2ea",
   "metadata": {},
   "outputs": [],
   "source": []
  },
  {
   "cell_type": "code",
   "execution_count": null,
   "id": "3ff17222-3d64-493c-91a8-074789cc824d",
   "metadata": {},
   "outputs": [],
   "source": []
  },
  {
   "cell_type": "markdown",
   "id": "c70f993e-7040-4ad2-959c-ca491908c71c",
   "metadata": {},
   "source": [
    "### Key Differences between Python and C++ Highlighted\n",
    "#### Memory Management:\n",
    "**Python:** Automatic garbage collection manages memory for objects on the heap. The recursion depth is limited by default but can be adjusted.\n",
    "\n",
    "**C++:** Memory management is manual, and improper handling can lead to memory leaks or stack overflow. The stack size is fixed, and deep recursion can exhaust the stack."
   ]
  },
  {
   "cell_type": "markdown",
   "id": "61811838-6a13-48fd-b413-b474b32f3846",
   "metadata": {},
   "source": [
    "#### Recursion Limit:\n",
    "**Python:** Has a default recursion limit to prevent infinite recursion, which can be changed using sys.setrecursionlimit.\n",
    "\n",
    "**C++:** No built-in recursion limit, but stack overflow can occur with deep recursion."
   ]
  },
  {
   "cell_type": "markdown",
   "id": "1985a379-56f8-4b0b-a085-5a9f4f5b8586",
   "metadata": {},
   "source": [
    "#### Syntax:\n",
    "**Python:** More concise and readable syntax, less boilerplate code.\n",
    "\n",
    "**C++:** Requires more boilerplate and explicit memory management, making the code longer and potentially more complex."
   ]
  },
  {
   "cell_type": "markdown",
   "id": "740e1c9b-3243-4a6d-a48c-6b38520fdd73",
   "metadata": {},
   "source": [
    "#### Conclusion\n",
    "Recursion is a powerful tool in programming that can simplify the solution to complex problems. While both Python and C++ support recursion, Python's simpler syntax and automatic memory management make it easier to use for many programmers. Understanding the differences between how these languages handle recursion can help you write more efficient and effective code."
   ]
  }
 ],
 "metadata": {
  "kernelspec": {
   "display_name": "Python 3 (ipykernel)",
   "language": "python",
   "name": "python3"
  },
  "language_info": {
   "codemirror_mode": {
    "name": "ipython",
    "version": 3
   },
   "file_extension": ".py",
   "mimetype": "text/x-python",
   "name": "python",
   "nbconvert_exporter": "python",
   "pygments_lexer": "ipython3",
   "version": "3.11.7"
  }
 },
 "nbformat": 4,
 "nbformat_minor": 5
}
